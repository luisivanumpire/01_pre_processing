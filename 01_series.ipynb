{
 "cells": [
  {
   "cell_type": "markdown",
   "id": "53a51df6",
   "metadata": {},
   "source": [
    "# Creación y Manipulación de Series\n",
    "### Creación de una serie"
   ]
  },
  {
   "cell_type": "code",
   "execution_count": 1,
   "id": "4650be13",
   "metadata": {},
   "outputs": [],
   "source": [
    "import pandas as pd\n",
    "\n",
    "index = [\"Juan\", \"Maria\", \"Francisco\", \"Pedro\", \"Luis\"]\n",
    "data_list = [40, 20, 36, 34, 20]"
   ]
  },
  {
   "cell_type": "code",
   "execution_count": 31,
   "id": "5561d58f",
   "metadata": {},
   "outputs": [
    {
     "data": {
      "text/plain": [
       "Juan         20\n",
       "Maria        20\n",
       "Francisco    36\n",
       "Pedro        34\n",
       "Luis         20\n",
       "dtype: int64"
      ]
     },
     "execution_count": 31,
     "metadata": {},
     "output_type": "execute_result"
    }
   ],
   "source": [
    "ages = pd.Series(data_list, index)\n",
    "ages"
   ]
  },
  {
   "cell_type": "code",
   "execution_count": 32,
   "id": "e7d36983",
   "metadata": {},
   "outputs": [
    {
     "data": {
      "text/plain": [
       "(dtype('int64'),\n",
       " 5,\n",
       " Index(['Juan', 'Maria', 'Francisco', 'Pedro', 'Luis'], dtype='object'),\n",
       " array([20, 20, 36, 34, 20], dtype=int64))"
      ]
     },
     "execution_count": 32,
     "metadata": {},
     "output_type": "execute_result"
    }
   ],
   "source": [
    "ages.dtype, ages.size, ages.index, ages.values"
   ]
  },
  {
   "cell_type": "code",
   "execution_count": 33,
   "id": "648ef693",
   "metadata": {},
   "outputs": [
    {
     "data": {
      "text/plain": [
       "Juan         40\n",
       "Maria        20\n",
       "Francisco    36\n",
       "Pedro        34\n",
       "Luis         20\n",
       "dtype: int64"
      ]
     },
     "execution_count": 33,
     "metadata": {},
     "output_type": "execute_result"
    }
   ],
   "source": [
    "dic = {\"Juan\":40, \"Maria\":20, \"Francisco\":36, \"Pedro\":34, \"Luis\":20}\n",
    "ages = pd.Series(dic)\n",
    "ages"
   ]
  },
  {
   "cell_type": "markdown",
   "id": "c5e7f75b",
   "metadata": {},
   "source": [
    "### Atributtes and access to elements of series"
   ]
  },
  {
   "cell_type": "code",
   "execution_count": 34,
   "id": "8819e8e0",
   "metadata": {},
   "outputs": [
    {
     "data": {
      "text/plain": [
       "(dtype('int64'),\n",
       " 5,\n",
       " Index(['Juan', 'Maria', 'Francisco', 'Pedro', 'Luis'], dtype='object'),\n",
       " array([40, 20, 36, 34, 20], dtype=int64))"
      ]
     },
     "execution_count": 34,
     "metadata": {},
     "output_type": "execute_result"
    }
   ],
   "source": [
    "ages.dtype, ages.size, ages.index, ages.values"
   ]
  },
  {
   "cell_type": "code",
   "execution_count": 35,
   "id": "183089b4",
   "metadata": {},
   "outputs": [
    {
     "name": "stdout",
     "output_type": "stream",
     "text": [
      "40\n",
      "20\n",
      "36\n",
      "34\n",
      "20\n"
     ]
    }
   ],
   "source": [
    "for element in ages:\n",
    "    print(element)"
   ]
  },
  {
   "cell_type": "code",
   "execution_count": 36,
   "id": "d1b405e8",
   "metadata": {},
   "outputs": [
    {
     "name": "stdout",
     "output_type": "stream",
     "text": [
      "Juan\n",
      "Maria\n",
      "Francisco\n",
      "Pedro\n",
      "Luis\n"
     ]
    }
   ],
   "source": [
    "for element in ages.index:\n",
    "    print(element)"
   ]
  },
  {
   "cell_type": "code",
   "execution_count": 37,
   "id": "782aa4df",
   "metadata": {},
   "outputs": [
    {
     "data": {
      "text/plain": [
       "(40,\n",
       " Juan     40\n",
       " Pedro    34\n",
       " dtype: int64)"
      ]
     },
     "execution_count": 37,
     "metadata": {},
     "output_type": "execute_result"
    }
   ],
   "source": [
    "ages[\"Juan\"], ages[[\"Juan\",\"Pedro\"]]"
   ]
  },
  {
   "cell_type": "code",
   "execution_count": 38,
   "id": "25eafc82",
   "metadata": {},
   "outputs": [
    {
     "data": {
      "text/plain": [
       "(40,\n",
       " Juan     40\n",
       " Maria    20\n",
       " dtype: int64,\n",
       " Juan         40\n",
       " Francisco    36\n",
       " dtype: int64)"
      ]
     },
     "execution_count": 38,
     "metadata": {},
     "output_type": "execute_result"
    }
   ],
   "source": [
    "ages[0], ages[0:2], ages[[0,2]]"
   ]
  },
  {
   "cell_type": "markdown",
   "id": "9f20f8ce",
   "metadata": {},
   "source": [
    "### Basic methods"
   ]
  },
  {
   "cell_type": "code",
   "execution_count": 39,
   "id": "e9a3d386",
   "metadata": {},
   "outputs": [
    {
     "data": {
      "text/plain": [
       "Juan         40.0\n",
       "Maria        20.0\n",
       "Francisco    36.0\n",
       "Pedro        34.0\n",
       "Luis         20.0\n",
       "dtype: float64"
      ]
     },
     "execution_count": 39,
     "metadata": {},
     "output_type": "execute_result"
    }
   ],
   "source": [
    "ages.astype(\"float\")"
   ]
  },
  {
   "cell_type": "code",
   "execution_count": 40,
   "id": "8d276899",
   "metadata": {},
   "outputs": [
    {
     "data": {
      "text/plain": [
       "Juan         40\n",
       "Maria        20\n",
       "Francisco    36\n",
       "Pedro        34\n",
       "Luis         20\n",
       "dtype: int16"
      ]
     },
     "execution_count": 40,
     "metadata": {},
     "output_type": "execute_result"
    }
   ],
   "source": [
    "ages.astype(\"i2\")"
   ]
  },
  {
   "cell_type": "code",
   "execution_count": 41,
   "id": "57bc80aa",
   "metadata": {},
   "outputs": [
    {
     "data": {
      "text/plain": [
       "20    2\n",
       "40    1\n",
       "36    1\n",
       "34    1\n",
       "dtype: int64"
      ]
     },
     "execution_count": 41,
     "metadata": {},
     "output_type": "execute_result"
    }
   ],
   "source": [
    "ages.value_counts()"
   ]
  },
  {
   "cell_type": "code",
   "execution_count": 42,
   "id": "70b528d4",
   "metadata": {},
   "outputs": [
    {
     "data": {
      "text/plain": [
       "Maria        20\n",
       "Luis         20\n",
       "Pedro        34\n",
       "Francisco    36\n",
       "Juan         40\n",
       "dtype: int64"
      ]
     },
     "execution_count": 42,
     "metadata": {},
     "output_type": "execute_result"
    }
   ],
   "source": [
    "ages.sort_values(inplace=True)\n",
    "ages"
   ]
  },
  {
   "cell_type": "code",
   "execution_count": 44,
   "id": "0c0edbfe",
   "metadata": {},
   "outputs": [
    {
     "data": {
      "text/plain": [
       "Francisco    36\n",
       "Juan         40\n",
       "Luis         20\n",
       "Maria        20\n",
       "Pedro        34\n",
       "dtype: int64"
      ]
     },
     "execution_count": 44,
     "metadata": {},
     "output_type": "execute_result"
    }
   ],
   "source": [
    "ages.sort_index(inplace=True)\n",
    "ages"
   ]
  },
  {
   "cell_type": "markdown",
   "id": "90aad9b0",
   "metadata": {},
   "source": [
    "### Arithmetics and linear algebra operations"
   ]
  },
  {
   "cell_type": "code",
   "execution_count": 45,
   "id": "844487ea",
   "metadata": {},
   "outputs": [
    {
     "data": {
      "text/plain": [
       "Francisco    37\n",
       "Juan         41\n",
       "Luis         21\n",
       "Maria        21\n",
       "Pedro        35\n",
       "dtype: int64"
      ]
     },
     "execution_count": 45,
     "metadata": {},
     "output_type": "execute_result"
    }
   ],
   "source": [
    "ages + 1"
   ]
  },
  {
   "cell_type": "code",
   "execution_count": 25,
   "id": "5a273cda",
   "metadata": {},
   "outputs": [
    {
     "data": {
      "text/plain": [
       "Francisco    72\n",
       "Juan         40\n",
       "Luis         40\n",
       "Maria        40\n",
       "Pedro        68\n",
       "dtype: int64"
      ]
     },
     "execution_count": 25,
     "metadata": {},
     "output_type": "execute_result"
    }
   ],
   "source": [
    "ages + ages"
   ]
  },
  {
   "cell_type": "markdown",
   "id": "2adebd80",
   "metadata": {},
   "source": [
    "### Statistic functions"
   ]
  },
  {
   "cell_type": "code",
   "execution_count": 50,
   "id": "2fb5671b",
   "metadata": {},
   "outputs": [
    {
     "data": {
      "text/plain": [
       "40"
      ]
     },
     "execution_count": 50,
     "metadata": {},
     "output_type": "execute_result"
    }
   ],
   "source": [
    "ages.max()"
   ]
  },
  {
   "cell_type": "code",
   "execution_count": 51,
   "id": "949ca72a",
   "metadata": {},
   "outputs": [
    {
     "data": {
      "text/plain": [
       "1"
      ]
     },
     "execution_count": 51,
     "metadata": {},
     "output_type": "execute_result"
    }
   ],
   "source": [
    "ages.argmax() # get the position of the max value"
   ]
  },
  {
   "cell_type": "code",
   "execution_count": 48,
   "id": "5a73548a",
   "metadata": {},
   "outputs": [
    {
     "data": {
      "text/plain": [
       "(20, 2)"
      ]
     },
     "execution_count": 48,
     "metadata": {},
     "output_type": "execute_result"
    }
   ],
   "source": [
    "ages.min(), ages.argmin()"
   ]
  },
  {
   "cell_type": "code",
   "execution_count": 47,
   "id": "4cae89e5",
   "metadata": {},
   "outputs": [
    {
     "data": {
      "text/plain": [
       "150"
      ]
     },
     "execution_count": 47,
     "metadata": {},
     "output_type": "execute_result"
    }
   ],
   "source": [
    "ages.sum()"
   ]
  },
  {
   "cell_type": "code",
   "execution_count": 46,
   "id": "5edf26f3",
   "metadata": {},
   "outputs": [
    {
     "data": {
      "text/plain": [
       "(0    20\n",
       " dtype: int64,\n",
       " 30.0,\n",
       " 34.0,\n",
       " 9.38083151964686,\n",
       " 5)"
      ]
     },
     "execution_count": 46,
     "metadata": {},
     "output_type": "execute_result"
    }
   ],
   "source": [
    "ages.mode(), ages.mean(), ages.median(), ages.std(), ages.count()"
   ]
  },
  {
   "cell_type": "code",
   "execution_count": 52,
   "id": "151afdb4",
   "metadata": {},
   "outputs": [
    {
     "data": {
      "text/plain": [
       "count     5.000000\n",
       "mean     30.000000\n",
       "std       9.380832\n",
       "min      20.000000\n",
       "25%      20.000000\n",
       "50%      34.000000\n",
       "75%      36.000000\n",
       "max      40.000000\n",
       "dtype: float64"
      ]
     },
     "execution_count": 52,
     "metadata": {},
     "output_type": "execute_result"
    }
   ],
   "source": [
    "ages.describe()"
   ]
  },
  {
   "cell_type": "code",
   "execution_count": 53,
   "id": "e7c52c3e",
   "metadata": {},
   "outputs": [
    {
     "data": {
      "text/plain": [
       "(20.0, 34.0, 36.0)"
      ]
     },
     "execution_count": 53,
     "metadata": {},
     "output_type": "execute_result"
    }
   ],
   "source": [
    "ages.quantile(0.25), ages.quantile(0.50), ages.quantile(0.75)"
   ]
  },
  {
   "cell_type": "code",
   "execution_count": 54,
   "id": "decf3720",
   "metadata": {},
   "outputs": [
    {
     "data": {
      "text/plain": [
       "<AxesSubplot:>"
      ]
     },
     "execution_count": 54,
     "metadata": {},
     "output_type": "execute_result"
    },
    {
     "data": {
      "image/png": "[encoded data removed]",
      "text/plain": [
       "<Figure size 432x288 with 1 Axes>"
      ]
     },
     "metadata": {
      "needs_background": "light"
     },
     "output_type": "display_data"
    }
   ],
   "source": [
    "ages.plot()"
   ]
  },
  {
   "cell_type": "code",
   "execution_count": null,
   "id": "f89840c2",
   "metadata": {},
   "outputs": [],
   "source": []
  }
 ],
 "metadata": {
  "kernelspec": {
   "display_name": "Python 3 (ipykernel)",
   "language": "python",
   "name": "python3"
  },
  "language_info": {
   "codemirror_mode": {
    "name": "ipython",
    "version": 3
   },
   "file_extension": ".py",
   "mimetype": "text/x-python",
   "name": "python",
   "nbconvert_exporter": "python",
   "pygments_lexer": "ipython3",
   "version": "3.9.12"
  }
 },
 "nbformat": 4,
 "nbformat_minor": 5
}
