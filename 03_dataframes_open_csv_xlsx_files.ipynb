{
 "cells": [
  {
   "cell_type": "code",
   "execution_count": 23,
   "id": "bfbbbf1f",
   "metadata": {},
   "outputs": [
    {
     "data": {
      "text/html": [
       "<div>\n",
       "<style scoped>\n",
       "    .dataframe tbody tr th:only-of-type {\n",
       "        vertical-align: middle;\n",
       "    }\n",
       "\n",
       "    .dataframe tbody tr th {\n",
       "        vertical-align: top;\n",
       "    }\n",
       "\n",
       "    .dataframe thead th {\n",
       "        text-align: right;\n",
       "    }\n",
       "</style>\n",
       "<table border=\"1\" class=\"dataframe\">\n",
       "  <thead>\n",
       "    <tr style=\"text-align: right;\">\n",
       "      <th></th>\n",
       "      <th>quarter_1</th>\n",
       "      <th>quarter_2</th>\n",
       "      <th>quarter_3</th>\n",
       "      <th>quarter_4</th>\n",
       "    </tr>\n",
       "  </thead>\n",
       "  <tbody>\n",
       "    <tr>\n",
       "      <th>branch nort</th>\n",
       "      <td>1001</td>\n",
       "      <td>1002</td>\n",
       "      <td>1003</td>\n",
       "      <td>1004</td>\n",
       "    </tr>\n",
       "    <tr>\n",
       "      <th>branch east</th>\n",
       "      <td>2001</td>\n",
       "      <td>2002</td>\n",
       "      <td>2003</td>\n",
       "      <td>2004</td>\n",
       "    </tr>\n",
       "    <tr>\n",
       "      <th>branch west</th>\n",
       "      <td>3001</td>\n",
       "      <td>3002</td>\n",
       "      <td>3003</td>\n",
       "      <td>3004</td>\n",
       "    </tr>\n",
       "    <tr>\n",
       "      <th>branch south</th>\n",
       "      <td>4001</td>\n",
       "      <td>4002</td>\n",
       "      <td>4003</td>\n",
       "      <td>4004</td>\n",
       "    </tr>\n",
       "  </tbody>\n",
       "</table>\n",
       "</div>"
      ],
      "text/plain": [
       "              quarter_1  quarter_2  quarter_3  quarter_4\n",
       "branch nort        1001       1002       1003       1004\n",
       "branch east        2001       2002       2003       2004\n",
       "branch west        3001       3002       3003       3004\n",
       "branch south       4001       4002       4003       4004"
      ]
     },
     "execution_count": 23,
     "metadata": {},
     "output_type": "execute_result"
    }
   ],
   "source": [
    "import pandas as pd\n",
    "# data = pd.read_csv('sales.csv',sep=';', index_col=0, usecols=[0,1,4], nrows=3)\n",
    "# data = pd.read_csv('sales.csv',sep=';', index_col=0, header=None, names=['Q1','Q2','Q3','Q4'])\n",
    "# data = pd.read_csv('sales.csv',sep=';', index_col=0)\n",
    "# skiprows: no read some rows. \n",
    "# skipfooter: no read some rows but begining from the last row.\n",
    "data = pd.read_csv('sales_garbage.csv',sep=';', index_col=0,\n",
    "                  skiprows=1, skipfooter=1, engine='python')\n",
    "\n",
    "df_sales =pd.DataFrame(data)\n",
    "df_sales"
   ]
  },
  {
   "cell_type": "code",
   "execution_count": 29,
   "id": "30456ec3",
   "metadata": {},
   "outputs": [
    {
     "data": {
      "text/html": [
       "<div>\n",
       "<style scoped>\n",
       "    .dataframe tbody tr th:only-of-type {\n",
       "        vertical-align: middle;\n",
       "    }\n",
       "\n",
       "    .dataframe tbody tr th {\n",
       "        vertical-align: top;\n",
       "    }\n",
       "\n",
       "    .dataframe thead th {\n",
       "        text-align: right;\n",
       "    }\n",
       "</style>\n",
       "<table border=\"1\" class=\"dataframe\">\n",
       "  <thead>\n",
       "    <tr style=\"text-align: right;\">\n",
       "      <th></th>\n",
       "      <th>quarter_1</th>\n",
       "      <th>quarter_2</th>\n",
       "      <th>quarter_3</th>\n",
       "      <th>quarter_4</th>\n",
       "    </tr>\n",
       "  </thead>\n",
       "  <tbody>\n",
       "    <tr>\n",
       "      <th>branch nort</th>\n",
       "      <td>1001</td>\n",
       "      <td>1002</td>\n",
       "      <td>1003</td>\n",
       "      <td>1004</td>\n",
       "    </tr>\n",
       "    <tr>\n",
       "      <th>branch east</th>\n",
       "      <td>2001</td>\n",
       "      <td>2002</td>\n",
       "      <td>2003</td>\n",
       "      <td>2004</td>\n",
       "    </tr>\n",
       "    <tr>\n",
       "      <th>branch west</th>\n",
       "      <td>3001</td>\n",
       "      <td>3002</td>\n",
       "      <td>3003</td>\n",
       "      <td>3004</td>\n",
       "    </tr>\n",
       "    <tr>\n",
       "      <th>branch south</th>\n",
       "      <td>4001</td>\n",
       "      <td>4002</td>\n",
       "      <td>4003</td>\n",
       "      <td>4004</td>\n",
       "    </tr>\n",
       "  </tbody>\n",
       "</table>\n",
       "</div>"
      ],
      "text/plain": [
       "              quarter_1  quarter_2  quarter_3  quarter_4\n",
       "branch nort        1001       1002       1003       1004\n",
       "branch east        2001       2002       2003       2004\n",
       "branch west        3001       3002       3003       3004\n",
       "branch south       4001       4002       4003       4004"
      ]
     },
     "execution_count": 29,
     "metadata": {},
     "output_type": "execute_result"
    }
   ],
   "source": [
    "data = pd.read_excel('sales.xlsx', index_col=0, skiprows=1, sheet_name='2020')\n",
    "\n",
    "df_sales =pd.DataFrame(data)\n",
    "df_sales"
   ]
  },
  {
   "cell_type": "code",
   "execution_count": null,
   "id": "72846480",
   "metadata": {},
   "outputs": [],
   "source": [
    "data2 = pd.read_excel('sales.xlsx', index_col=0, skiprows=1, sheet_name='2021')\n",
    "\n",
    "df_sales2 =pd.DataFrame(data2)\n",
    "df_sales"
   ]
  }
 ],
 "metadata": {
  "kernelspec": {
   "display_name": "Python 3 (ipykernel)",
   "language": "python",
   "name": "python3"
  },
  "language_info": {
   "codemirror_mode": {
    "name": "ipython",
    "version": 3
   },
   "file_extension": ".py",
   "mimetype": "text/x-python",
   "name": "python",
   "nbconvert_exporter": "python",
   "pygments_lexer": "ipython3",
   "version": "3.9.12"
  }
 },
 "nbformat": 4,
 "nbformat_minor": 5
}
