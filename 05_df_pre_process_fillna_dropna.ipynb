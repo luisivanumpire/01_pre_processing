{
 "cells": [
  {
   "cell_type": "code",
   "execution_count": 11,
   "id": "49a5cf45",
   "metadata": {},
   "outputs": [
    {
     "data": {
      "text/html": [
       "<div>\n",
       "<style scoped>\n",
       "    .dataframe tbody tr th:only-of-type {\n",
       "        vertical-align: middle;\n",
       "    }\n",
       "\n",
       "    .dataframe tbody tr th {\n",
       "        vertical-align: top;\n",
       "    }\n",
       "\n",
       "    .dataframe thead th {\n",
       "        text-align: right;\n",
       "    }\n",
       "</style>\n",
       "<table border=\"1\" class=\"dataframe\">\n",
       "  <thead>\n",
       "    <tr style=\"text-align: right;\">\n",
       "      <th></th>\n",
       "      <th>nombre</th>\n",
       "      <th>edad</th>\n",
       "      <th>ingreso</th>\n",
       "    </tr>\n",
       "  </thead>\n",
       "  <tbody>\n",
       "    <tr>\n",
       "      <th>0</th>\n",
       "      <td>Juan</td>\n",
       "      <td>35.0</td>\n",
       "      <td>15800.0</td>\n",
       "    </tr>\n",
       "    <tr>\n",
       "      <th>1</th>\n",
       "      <td>Luisa</td>\n",
       "      <td>25.0</td>\n",
       "      <td>17000.0</td>\n",
       "    </tr>\n",
       "    <tr>\n",
       "      <th>2</th>\n",
       "      <td>NaN</td>\n",
       "      <td>70.0</td>\n",
       "      <td>20000.0</td>\n",
       "    </tr>\n",
       "    <tr>\n",
       "      <th>3</th>\n",
       "      <td>Carmen</td>\n",
       "      <td>49.0</td>\n",
       "      <td>22000.0</td>\n",
       "    </tr>\n",
       "    <tr>\n",
       "      <th>4</th>\n",
       "      <td>NaN</td>\n",
       "      <td>NaN</td>\n",
       "      <td>NaN</td>\n",
       "    </tr>\n",
       "    <tr>\n",
       "      <th>5</th>\n",
       "      <td>Mario</td>\n",
       "      <td>30.0</td>\n",
       "      <td>15800.0</td>\n",
       "    </tr>\n",
       "    <tr>\n",
       "      <th>6</th>\n",
       "      <td>Pedro</td>\n",
       "      <td>NaN</td>\n",
       "      <td>17400.0</td>\n",
       "    </tr>\n",
       "    <tr>\n",
       "      <th>7</th>\n",
       "      <td>Gustavo</td>\n",
       "      <td>27.0</td>\n",
       "      <td>NaN</td>\n",
       "    </tr>\n",
       "    <tr>\n",
       "      <th>8</th>\n",
       "      <td>Carlos</td>\n",
       "      <td>NaN</td>\n",
       "      <td>NaN</td>\n",
       "    </tr>\n",
       "  </tbody>\n",
       "</table>\n",
       "</div>"
      ],
      "text/plain": [
       "    nombre  edad  ingreso\n",
       "0     Juan  35.0  15800.0\n",
       "1    Luisa  25.0  17000.0\n",
       "2      NaN  70.0  20000.0\n",
       "3   Carmen  49.0  22000.0\n",
       "4      NaN   NaN      NaN\n",
       "5    Mario  30.0  15800.0\n",
       "6    Pedro   NaN  17400.0\n",
       "7  Gustavo  27.0      NaN\n",
       "8   Carlos   NaN      NaN"
      ]
     },
     "execution_count": 11,
     "metadata": {},
     "output_type": "execute_result"
    }
   ],
   "source": [
    "import pandas as pd\n",
    "\n",
    "data = pd.read_csv('clientes.txt')\n",
    "\n",
    "customer = pd.DataFrame(data)\n",
    "customer"
   ]
  },
  {
   "cell_type": "code",
   "execution_count": 4,
   "id": "11f8b967",
   "metadata": {},
   "outputs": [
    {
     "data": {
      "text/plain": [
       "0    False\n",
       "1    False\n",
       "2     True\n",
       "3    False\n",
       "4     True\n",
       "5    False\n",
       "6    False\n",
       "7    False\n",
       "8    False\n",
       "Name: nombre, dtype: bool"
      ]
     },
     "execution_count": 4,
     "metadata": {},
     "output_type": "execute_result"
    }
   ],
   "source": [
    "customer[\"nombre\"].isnull()"
   ]
  },
  {
   "cell_type": "code",
   "execution_count": 5,
   "id": "6c678b9f",
   "metadata": {},
   "outputs": [
    {
     "data": {
      "text/html": [
       "<div>\n",
       "<style scoped>\n",
       "    .dataframe tbody tr th:only-of-type {\n",
       "        vertical-align: middle;\n",
       "    }\n",
       "\n",
       "    .dataframe tbody tr th {\n",
       "        vertical-align: top;\n",
       "    }\n",
       "\n",
       "    .dataframe thead th {\n",
       "        text-align: right;\n",
       "    }\n",
       "</style>\n",
       "<table border=\"1\" class=\"dataframe\">\n",
       "  <thead>\n",
       "    <tr style=\"text-align: right;\">\n",
       "      <th></th>\n",
       "      <th>nombre</th>\n",
       "      <th>edad</th>\n",
       "      <th>ingreso</th>\n",
       "    </tr>\n",
       "  </thead>\n",
       "  <tbody>\n",
       "    <tr>\n",
       "      <th>2</th>\n",
       "      <td>NaN</td>\n",
       "      <td>70.0</td>\n",
       "      <td>20000.0</td>\n",
       "    </tr>\n",
       "    <tr>\n",
       "      <th>4</th>\n",
       "      <td>NaN</td>\n",
       "      <td>NaN</td>\n",
       "      <td>NaN</td>\n",
       "    </tr>\n",
       "  </tbody>\n",
       "</table>\n",
       "</div>"
      ],
      "text/plain": [
       "  nombre  edad  ingreso\n",
       "2    NaN  70.0  20000.0\n",
       "4    NaN   NaN      NaN"
      ]
     },
     "execution_count": 5,
     "metadata": {},
     "output_type": "execute_result"
    }
   ],
   "source": [
    "customer[customer[\"nombre\"].isnull()]"
   ]
  },
  {
   "cell_type": "code",
   "execution_count": 6,
   "id": "ecdbd1a9",
   "metadata": {},
   "outputs": [
    {
     "name": "stdout",
     "output_type": "stream",
     "text": [
      "   nombre  edad  ingreso\n",
      "0    Juan  35.0  15800.0\n",
      "1   Luisa  25.0  17000.0\n",
      "3  Carmen  49.0  22000.0\n",
      "5   Mario  30.0  15800.0\n"
     ]
    }
   ],
   "source": [
    "print(customer.dropna())"
   ]
  },
  {
   "cell_type": "code",
   "execution_count": 7,
   "id": "d036cea9",
   "metadata": {},
   "outputs": [
    {
     "name": "stdout",
     "output_type": "stream",
     "text": [
      "    nombre  edad  ingreso\n",
      "0     Juan  35.0  15800.0\n",
      "1    Luisa  25.0  17000.0\n",
      "2      NaN  70.0  20000.0\n",
      "3   Carmen  49.0  22000.0\n",
      "4      NaN   NaN      NaN\n",
      "5    Mario  30.0  15800.0\n",
      "6    Pedro   NaN  17400.0\n",
      "7  Gustavo  27.0      NaN\n",
      "8   Carlos   NaN      NaN\n"
     ]
    }
   ],
   "source": [
    "print(customer)"
   ]
  },
  {
   "cell_type": "code",
   "execution_count": 8,
   "id": "177cc63c",
   "metadata": {},
   "outputs": [
    {
     "name": "stdout",
     "output_type": "stream",
     "text": [
      "   nombre  edad  ingreso\n",
      "0    Juan  35.0  15800.0\n",
      "1   Luisa  25.0  17000.0\n",
      "3  Carmen  49.0  22000.0\n",
      "5   Mario  30.0  15800.0\n",
      "6   Pedro   NaN  17400.0\n"
     ]
    }
   ],
   "source": [
    "print(customer.dropna(subset=[\"nombre\",\"ingreso\"]))"
   ]
  },
  {
   "cell_type": "code",
   "execution_count": 9,
   "id": "bce7666c",
   "metadata": {},
   "outputs": [
    {
     "data": {
      "text/html": [
       "<div>\n",
       "<style scoped>\n",
       "    .dataframe tbody tr th:only-of-type {\n",
       "        vertical-align: middle;\n",
       "    }\n",
       "\n",
       "    .dataframe tbody tr th {\n",
       "        vertical-align: top;\n",
       "    }\n",
       "\n",
       "    .dataframe thead th {\n",
       "        text-align: right;\n",
       "    }\n",
       "</style>\n",
       "<table border=\"1\" class=\"dataframe\">\n",
       "  <thead>\n",
       "    <tr style=\"text-align: right;\">\n",
       "      <th></th>\n",
       "      <th>nombre</th>\n",
       "      <th>edad</th>\n",
       "      <th>ingreso</th>\n",
       "    </tr>\n",
       "  </thead>\n",
       "  <tbody>\n",
       "    <tr>\n",
       "      <th>0</th>\n",
       "      <td>Juan</td>\n",
       "      <td>35.0</td>\n",
       "      <td>15800.0</td>\n",
       "    </tr>\n",
       "    <tr>\n",
       "      <th>1</th>\n",
       "      <td>Luisa</td>\n",
       "      <td>25.0</td>\n",
       "      <td>17000.0</td>\n",
       "    </tr>\n",
       "    <tr>\n",
       "      <th>2</th>\n",
       "      <td>NaN</td>\n",
       "      <td>70.0</td>\n",
       "      <td>20000.0</td>\n",
       "    </tr>\n",
       "    <tr>\n",
       "      <th>3</th>\n",
       "      <td>Carmen</td>\n",
       "      <td>49.0</td>\n",
       "      <td>22000.0</td>\n",
       "    </tr>\n",
       "    <tr>\n",
       "      <th>4</th>\n",
       "      <td>NaN</td>\n",
       "      <td>NaN</td>\n",
       "      <td>NaN</td>\n",
       "    </tr>\n",
       "    <tr>\n",
       "      <th>5</th>\n",
       "      <td>Mario</td>\n",
       "      <td>30.0</td>\n",
       "      <td>15800.0</td>\n",
       "    </tr>\n",
       "    <tr>\n",
       "      <th>6</th>\n",
       "      <td>Pedro</td>\n",
       "      <td>NaN</td>\n",
       "      <td>17400.0</td>\n",
       "    </tr>\n",
       "    <tr>\n",
       "      <th>7</th>\n",
       "      <td>Gustavo</td>\n",
       "      <td>27.0</td>\n",
       "      <td>NaN</td>\n",
       "    </tr>\n",
       "    <tr>\n",
       "      <th>8</th>\n",
       "      <td>Carlos</td>\n",
       "      <td>NaN</td>\n",
       "      <td>NaN</td>\n",
       "    </tr>\n",
       "  </tbody>\n",
       "</table>\n",
       "</div>"
      ],
      "text/plain": [
       "    nombre  edad  ingreso\n",
       "0     Juan  35.0  15800.0\n",
       "1    Luisa  25.0  17000.0\n",
       "2      NaN  70.0  20000.0\n",
       "3   Carmen  49.0  22000.0\n",
       "4      NaN   NaN      NaN\n",
       "5    Mario  30.0  15800.0\n",
       "6    Pedro   NaN  17400.0\n",
       "7  Gustavo  27.0      NaN\n",
       "8   Carlos   NaN      NaN"
      ]
     },
     "execution_count": 9,
     "metadata": {},
     "output_type": "execute_result"
    }
   ],
   "source": [
    "customer"
   ]
  },
  {
   "cell_type": "code",
   "execution_count": 10,
   "id": "edf32647",
   "metadata": {},
   "outputs": [
    {
     "name": "stdout",
     "output_type": "stream",
     "text": [
      "None\n"
     ]
    },
    {
     "data": {
      "text/html": [
       "<div>\n",
       "<style scoped>\n",
       "    .dataframe tbody tr th:only-of-type {\n",
       "        vertical-align: middle;\n",
       "    }\n",
       "\n",
       "    .dataframe tbody tr th {\n",
       "        vertical-align: top;\n",
       "    }\n",
       "\n",
       "    .dataframe thead th {\n",
       "        text-align: right;\n",
       "    }\n",
       "</style>\n",
       "<table border=\"1\" class=\"dataframe\">\n",
       "  <thead>\n",
       "    <tr style=\"text-align: right;\">\n",
       "      <th></th>\n",
       "      <th>nombre</th>\n",
       "      <th>edad</th>\n",
       "      <th>ingreso</th>\n",
       "    </tr>\n",
       "  </thead>\n",
       "  <tbody>\n",
       "    <tr>\n",
       "      <th>0</th>\n",
       "      <td>Juan</td>\n",
       "      <td>35.0</td>\n",
       "      <td>15800.0</td>\n",
       "    </tr>\n",
       "    <tr>\n",
       "      <th>1</th>\n",
       "      <td>Luisa</td>\n",
       "      <td>25.0</td>\n",
       "      <td>17000.0</td>\n",
       "    </tr>\n",
       "    <tr>\n",
       "      <th>3</th>\n",
       "      <td>Carmen</td>\n",
       "      <td>49.0</td>\n",
       "      <td>22000.0</td>\n",
       "    </tr>\n",
       "    <tr>\n",
       "      <th>5</th>\n",
       "      <td>Mario</td>\n",
       "      <td>30.0</td>\n",
       "      <td>15800.0</td>\n",
       "    </tr>\n",
       "    <tr>\n",
       "      <th>6</th>\n",
       "      <td>Pedro</td>\n",
       "      <td>NaN</td>\n",
       "      <td>17400.0</td>\n",
       "    </tr>\n",
       "  </tbody>\n",
       "</table>\n",
       "</div>"
      ],
      "text/plain": [
       "   nombre  edad  ingreso\n",
       "0    Juan  35.0  15800.0\n",
       "1   Luisa  25.0  17000.0\n",
       "3  Carmen  49.0  22000.0\n",
       "5   Mario  30.0  15800.0\n",
       "6   Pedro   NaN  17400.0"
      ]
     },
     "execution_count": 10,
     "metadata": {},
     "output_type": "execute_result"
    }
   ],
   "source": [
    "print(customer.dropna(subset=[\"nombre\",\"ingreso\"], inplace=True))\n",
    "customer"
   ]
  },
  {
   "cell_type": "markdown",
   "id": "43d1989b",
   "metadata": {},
   "source": [
    "### Clean all null"
   ]
  },
  {
   "cell_type": "code",
   "execution_count": 12,
   "id": "c24d3371",
   "metadata": {},
   "outputs": [
    {
     "name": "stdout",
     "output_type": "stream",
     "text": [
      "    nombre  edad  ingreso\n",
      "0     Juan  35.0  15800.0\n",
      "1    Luisa  25.0  17000.0\n",
      "2        0  70.0  20000.0\n",
      "3   Carmen  49.0  22000.0\n",
      "4        0   0.0      0.0\n",
      "5    Mario  30.0  15800.0\n",
      "6    Pedro   0.0  17400.0\n",
      "7  Gustavo  27.0      0.0\n",
      "8   Carlos   0.0      0.0\n"
     ]
    }
   ],
   "source": [
    "print(customer.fillna(0)) # fill with zeros all nulls"
   ]
  },
  {
   "cell_type": "code",
   "execution_count": 13,
   "id": "b163d8c4",
   "metadata": {},
   "outputs": [
    {
     "name": "stdout",
     "output_type": "stream",
     "text": [
      "0       Juan\n",
      "1      Luisa\n",
      "2    unknown\n",
      "3     Carmen\n",
      "4    unknown\n",
      "5      Mario\n",
      "6      Pedro\n",
      "7    Gustavo\n",
      "8     Carlos\n",
      "Name: nombre, dtype: object\n"
     ]
    }
   ],
   "source": [
    "print(customer[\"nombre\"].fillna(\"unknown\")) # fill with unknown all nulls in the column \"name\""
   ]
  },
  {
   "cell_type": "code",
   "execution_count": 15,
   "id": "9ae6f37c",
   "metadata": {},
   "outputs": [
    {
     "name": "stdout",
     "output_type": "stream",
     "text": [
      "    nombre  edad  ingreso\n",
      "0     Juan  35.0  15800.0\n",
      "1    Luisa  25.0  17000.0\n",
      "2  unknown  70.0  20000.0\n",
      "3   Carmen  49.0  22000.0\n",
      "4  unknown  18.0  10000.0\n",
      "5    Mario  30.0  15800.0\n",
      "6    Pedro  18.0  17400.0\n",
      "7  Gustavo  27.0  10000.0\n",
      "8   Carlos  18.0  10000.0\n"
     ]
    }
   ],
   "source": [
    "values_by_default = {\"nombre\": \"unknown\",\n",
    "                    \"edad\": 18,\n",
    "                    \"ingreso\": 10000}\n",
    "print(customer.fillna(value=values_by_default))"
   ]
  },
  {
   "cell_type": "code",
   "execution_count": 31,
   "id": "9338cbe6",
   "metadata": {},
   "outputs": [
    {
     "name": "stdout",
     "output_type": "stream",
     "text": [
      "18000.0 17200.0 15800.0\n"
     ]
    }
   ],
   "source": [
    "mean_income   = customer[\"ingreso\"].mean()\n",
    "median_income = customer[\"ingreso\"].median()\n",
    "mode_income   = customer[\"ingreso\"].mode()[0]\n",
    "print(mean_income, median_income, mode_income)"
   ]
  },
  {
   "cell_type": "code",
   "execution_count": 24,
   "id": "0ba1eaa6",
   "metadata": {},
   "outputs": [
    {
     "data": {
      "text/plain": [
       "0    15800.0\n",
       "Name: ingreso, dtype: float64"
      ]
     },
     "execution_count": 24,
     "metadata": {},
     "output_type": "execute_result"
    }
   ],
   "source": [
    "mode_income"
   ]
  },
  {
   "cell_type": "code",
   "execution_count": 28,
   "id": "4b57bf45",
   "metadata": {},
   "outputs": [
    {
     "name": "stdout",
     "output_type": "stream",
     "text": [
      "0    15800.0\n",
      "1    17000.0\n",
      "2    20000.0\n",
      "3    22000.0\n",
      "4    18000.0\n",
      "5    15800.0\n",
      "6    17400.0\n",
      "7    18000.0\n",
      "8    18000.0\n",
      "Name: ingreso, dtype: float64\n"
     ]
    }
   ],
   "source": [
    "print(customer[\"ingreso\"].fillna(mean_income))"
   ]
  },
  {
   "cell_type": "code",
   "execution_count": null,
   "id": "2f44af0a",
   "metadata": {},
   "outputs": [],
   "source": []
  }
 ],
 "metadata": {
  "kernelspec": {
   "display_name": "Python 3 (ipykernel)",
   "language": "python",
   "name": "python3"
  },
  "language_info": {
   "codemirror_mode": {
    "name": "ipython",
    "version": 3
   },
   "file_extension": ".py",
   "mimetype": "text/x-python",
   "name": "python",
   "nbconvert_exporter": "python",
   "pygments_lexer": "ipython3",
   "version": "3.9.12"
  }
 },
 "nbformat": 4,
 "nbformat_minor": 5
}
