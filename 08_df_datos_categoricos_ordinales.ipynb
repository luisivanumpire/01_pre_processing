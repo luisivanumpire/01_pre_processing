{
 "cells": [
  {
   "cell_type": "code",
   "execution_count": 1,
   "id": "3c346983",
   "metadata": {},
   "outputs": [
    {
     "data": {
      "text/html": [
       "<div>\n",
       "<style scoped>\n",
       "    .dataframe tbody tr th:only-of-type {\n",
       "        vertical-align: middle;\n",
       "    }\n",
       "\n",
       "    .dataframe tbody tr th {\n",
       "        vertical-align: top;\n",
       "    }\n",
       "\n",
       "    .dataframe thead th {\n",
       "        text-align: right;\n",
       "    }\n",
       "</style>\n",
       "<table border=\"1\" class=\"dataframe\">\n",
       "  <thead>\n",
       "    <tr style=\"text-align: right;\">\n",
       "      <th></th>\n",
       "      <th>service</th>\n",
       "      <th>food</th>\n",
       "    </tr>\n",
       "  </thead>\n",
       "  <tbody>\n",
       "    <tr>\n",
       "      <th>0</th>\n",
       "      <td>Terrible</td>\n",
       "      <td>Bad</td>\n",
       "    </tr>\n",
       "    <tr>\n",
       "      <th>1</th>\n",
       "      <td>Poor</td>\n",
       "      <td>Good</td>\n",
       "    </tr>\n",
       "    <tr>\n",
       "      <th>2</th>\n",
       "      <td>Ok</td>\n",
       "      <td>Really good</td>\n",
       "    </tr>\n",
       "    <tr>\n",
       "      <th>3</th>\n",
       "      <td>Good</td>\n",
       "      <td>Perfect</td>\n",
       "    </tr>\n",
       "    <tr>\n",
       "      <th>4</th>\n",
       "      <td>Great</td>\n",
       "      <td>Bad</td>\n",
       "    </tr>\n",
       "    <tr>\n",
       "      <th>5</th>\n",
       "      <td>Terrible</td>\n",
       "      <td>Good</td>\n",
       "    </tr>\n",
       "  </tbody>\n",
       "</table>\n",
       "</div>"
      ],
      "text/plain": [
       "    service         food\n",
       "0  Terrible          Bad\n",
       "1      Poor         Good\n",
       "2        Ok  Really good\n",
       "3      Good      Perfect\n",
       "4     Great          Bad\n",
       "5  Terrible         Good"
      ]
     },
     "execution_count": 1,
     "metadata": {},
     "output_type": "execute_result"
    }
   ],
   "source": [
    "import pandas as pd\n",
    "import numpy as np\n",
    "\n",
    "category_of_service = [\"Terrible\",\"Poor\", \"Ok\", \"Good\",\"Great\"]\n",
    "\n",
    "quality = [\"Bad\", \"Good\", \"Really good\", \"Perfect\"]\n",
    "\n",
    "survey = {\"service\" : [\"Terrible\", \"Poor\", \"Ok\",          \"Good\",    \"Great\", \"Terrible\" ],\n",
    "         \"food\":      [\"Bad\",      \"Good\", \"Really good\", \"Perfect\", \"Bad\",   \"Good\"]}\n",
    "\n",
    "# 0: occacional customer.  1: frecuent customer\n",
    "kind_customer = [0,0,1,1,0,1]\n",
    "\n",
    "pd.DataFrame(survey)\n"
   ]
  },
  {
   "cell_type": "markdown",
   "id": "c520d01d",
   "metadata": {},
   "source": [
    "### Ordinal encoder\n",
    "#### No to dimensionality"
   ]
  },
  {
   "cell_type": "code",
   "execution_count": 3,
   "id": "fa68153a",
   "metadata": {},
   "outputs": [
    {
     "data": {
      "text/html": [
       "<div>\n",
       "<style scoped>\n",
       "    .dataframe tbody tr th:only-of-type {\n",
       "        vertical-align: middle;\n",
       "    }\n",
       "\n",
       "    .dataframe tbody tr th {\n",
       "        vertical-align: top;\n",
       "    }\n",
       "\n",
       "    .dataframe thead th {\n",
       "        text-align: right;\n",
       "    }\n",
       "</style>\n",
       "<table border=\"1\" class=\"dataframe\">\n",
       "  <thead>\n",
       "    <tr style=\"text-align: right;\">\n",
       "      <th></th>\n",
       "      <th>service</th>\n",
       "      <th>food</th>\n",
       "    </tr>\n",
       "  </thead>\n",
       "  <tbody>\n",
       "    <tr>\n",
       "      <th>0</th>\n",
       "      <td>0.0</td>\n",
       "      <td>0.0</td>\n",
       "    </tr>\n",
       "    <tr>\n",
       "      <th>1</th>\n",
       "      <td>1.0</td>\n",
       "      <td>1.0</td>\n",
       "    </tr>\n",
       "    <tr>\n",
       "      <th>2</th>\n",
       "      <td>2.0</td>\n",
       "      <td>2.0</td>\n",
       "    </tr>\n",
       "    <tr>\n",
       "      <th>3</th>\n",
       "      <td>3.0</td>\n",
       "      <td>3.0</td>\n",
       "    </tr>\n",
       "    <tr>\n",
       "      <th>4</th>\n",
       "      <td>4.0</td>\n",
       "      <td>0.0</td>\n",
       "    </tr>\n",
       "    <tr>\n",
       "      <th>5</th>\n",
       "      <td>0.0</td>\n",
       "      <td>1.0</td>\n",
       "    </tr>\n",
       "  </tbody>\n",
       "</table>\n",
       "</div>"
      ],
      "text/plain": [
       "   service  food\n",
       "0      0.0   0.0\n",
       "1      1.0   1.0\n",
       "2      2.0   2.0\n",
       "3      3.0   3.0\n",
       "4      4.0   0.0\n",
       "5      0.0   1.0"
      ]
     },
     "execution_count": 3,
     "metadata": {},
     "output_type": "execute_result"
    }
   ],
   "source": [
    "from sklearn.preprocessing import OrdinalEncoder\n",
    "\n",
    "data_ord = pd.DataFrame(survey)\n",
    "\n",
    "encoder = OrdinalEncoder(categories=[category_of_service, quality])\n",
    "\n",
    "data_ord = pd.DataFrame(encoder.fit_transform(data_ord),\n",
    "                       columns=[\"service\", \"food\"])\n",
    "data_ord"
   ]
  },
  {
   "cell_type": "code",
   "execution_count": 4,
   "id": "6cc19cd5",
   "metadata": {},
   "outputs": [
    {
     "name": "stdout",
     "output_type": "stream",
     "text": [
      "   service  food\n",
      "0      0.0   0.0\n",
      "1      1.0   1.0\n",
      "2      2.0   2.0\n",
      "3      3.0   3.0\n",
      "4      4.0   0.0\n",
      "5      0.0   1.0\n",
      "[array(['Terrible', 'Poor', 'Ok', 'Good', 'Great'], dtype=object), array(['Bad', 'Good', 'Really good', 'Perfect'], dtype=object)]\n"
     ]
    }
   ],
   "source": [
    "# To see the categories:\n",
    "print(data_ord)\n",
    "print(encoder.categories_)"
   ]
  },
  {
   "cell_type": "markdown",
   "id": "085dd6aa",
   "metadata": {},
   "source": [
    "### ..."
   ]
  },
  {
   "cell_type": "markdown",
   "id": "47c4d73c",
   "metadata": {},
   "source": [
    "### Encoder OneHotEncoder"
   ]
  },
  {
   "cell_type": "code",
   "execution_count": 11,
   "id": "03c8e220",
   "metadata": {},
   "outputs": [
    {
     "name": "stdout",
     "output_type": "stream",
     "text": [
      "    service         food\n",
      "0  Terrible          Bad\n",
      "1      Poor         Good\n",
      "2        Ok  Really good\n",
      "3      Good      Perfect\n",
      "4     Great          Bad\n",
      "5  Terrible         Good\n",
      "[[0. 0. 0. 0. 1. 1. 0. 0. 0.]\n",
      " [0. 0. 0. 1. 0. 0. 1. 0. 0.]\n",
      " [0. 0. 1. 0. 0. 0. 0. 0. 1.]\n",
      " [1. 0. 0. 0. 0. 0. 0. 1. 0.]\n",
      " [0. 1. 0. 0. 0. 1. 0. 0. 0.]\n",
      " [0. 0. 0. 0. 1. 0. 1. 0. 0.]]\n",
      "[array(['Good', 'Great', 'Ok', 'Poor', 'Terrible'], dtype=object), array(['Bad', 'Good', 'Perfect', 'Really good'], dtype=object)]\n"
     ]
    }
   ],
   "source": [
    "from sklearn.preprocessing import OneHotEncoder\n",
    "\n",
    "data_one = pd.DataFrame(survey)\n",
    "print(data_one)\n",
    "\n",
    "encoder = OneHotEncoder()\n",
    "\n",
    "print(encoder.fit_transform(data_one).toarray()) # To create a sparse matrix - Matriz dispersa\n",
    "print(encoder.categories_)"
   ]
  },
  {
   "cell_type": "code",
   "execution_count": 14,
   "id": "678ab32f",
   "metadata": {},
   "outputs": [
    {
     "name": "stdout",
     "output_type": "stream",
     "text": [
      "['Good' 'Great' 'Ok' 'Poor' 'Terrible' 'Bad' 'Good' 'Perfect'\n",
      " 'Really good']\n"
     ]
    }
   ],
   "source": [
    "print(np.concatenate(encoder.categories_))\n"
   ]
  },
  {
   "cell_type": "code",
   "execution_count": 15,
   "id": "902171a7",
   "metadata": {},
   "outputs": [
    {
     "data": {
      "text/html": [
       "<div>\n",
       "<style scoped>\n",
       "    .dataframe tbody tr th:only-of-type {\n",
       "        vertical-align: middle;\n",
       "    }\n",
       "\n",
       "    .dataframe tbody tr th {\n",
       "        vertical-align: top;\n",
       "    }\n",
       "\n",
       "    .dataframe thead th {\n",
       "        text-align: right;\n",
       "    }\n",
       "</style>\n",
       "<table border=\"1\" class=\"dataframe\">\n",
       "  <thead>\n",
       "    <tr style=\"text-align: right;\">\n",
       "      <th></th>\n",
       "      <th>Good</th>\n",
       "      <th>Great</th>\n",
       "      <th>Ok</th>\n",
       "      <th>Poor</th>\n",
       "      <th>Terrible</th>\n",
       "      <th>Bad</th>\n",
       "      <th>Good</th>\n",
       "      <th>Perfect</th>\n",
       "      <th>Really good</th>\n",
       "    </tr>\n",
       "  </thead>\n",
       "  <tbody>\n",
       "    <tr>\n",
       "      <th>0</th>\n",
       "      <td>0.0</td>\n",
       "      <td>0.0</td>\n",
       "      <td>0.0</td>\n",
       "      <td>0.0</td>\n",
       "      <td>1.0</td>\n",
       "      <td>1.0</td>\n",
       "      <td>0.0</td>\n",
       "      <td>0.0</td>\n",
       "      <td>0.0</td>\n",
       "    </tr>\n",
       "    <tr>\n",
       "      <th>1</th>\n",
       "      <td>0.0</td>\n",
       "      <td>0.0</td>\n",
       "      <td>0.0</td>\n",
       "      <td>1.0</td>\n",
       "      <td>0.0</td>\n",
       "      <td>0.0</td>\n",
       "      <td>1.0</td>\n",
       "      <td>0.0</td>\n",
       "      <td>0.0</td>\n",
       "    </tr>\n",
       "    <tr>\n",
       "      <th>2</th>\n",
       "      <td>0.0</td>\n",
       "      <td>0.0</td>\n",
       "      <td>1.0</td>\n",
       "      <td>0.0</td>\n",
       "      <td>0.0</td>\n",
       "      <td>0.0</td>\n",
       "      <td>0.0</td>\n",
       "      <td>0.0</td>\n",
       "      <td>1.0</td>\n",
       "    </tr>\n",
       "    <tr>\n",
       "      <th>3</th>\n",
       "      <td>1.0</td>\n",
       "      <td>0.0</td>\n",
       "      <td>0.0</td>\n",
       "      <td>0.0</td>\n",
       "      <td>0.0</td>\n",
       "      <td>0.0</td>\n",
       "      <td>0.0</td>\n",
       "      <td>1.0</td>\n",
       "      <td>0.0</td>\n",
       "    </tr>\n",
       "    <tr>\n",
       "      <th>4</th>\n",
       "      <td>0.0</td>\n",
       "      <td>1.0</td>\n",
       "      <td>0.0</td>\n",
       "      <td>0.0</td>\n",
       "      <td>0.0</td>\n",
       "      <td>1.0</td>\n",
       "      <td>0.0</td>\n",
       "      <td>0.0</td>\n",
       "      <td>0.0</td>\n",
       "    </tr>\n",
       "    <tr>\n",
       "      <th>5</th>\n",
       "      <td>0.0</td>\n",
       "      <td>0.0</td>\n",
       "      <td>0.0</td>\n",
       "      <td>0.0</td>\n",
       "      <td>1.0</td>\n",
       "      <td>0.0</td>\n",
       "      <td>1.0</td>\n",
       "      <td>0.0</td>\n",
       "      <td>0.0</td>\n",
       "    </tr>\n",
       "  </tbody>\n",
       "</table>\n",
       "</div>"
      ],
      "text/plain": [
       "   Good  Great   Ok  Poor  Terrible  Bad  Good  Perfect  Really good\n",
       "0   0.0    0.0  0.0   0.0       1.0  1.0   0.0      0.0          0.0\n",
       "1   0.0    0.0  0.0   1.0       0.0  0.0   1.0      0.0          0.0\n",
       "2   0.0    0.0  1.0   0.0       0.0  0.0   0.0      0.0          1.0\n",
       "3   1.0    0.0  0.0   0.0       0.0  0.0   0.0      1.0          0.0\n",
       "4   0.0    1.0  0.0   0.0       0.0  1.0   0.0      0.0          0.0\n",
       "5   0.0    0.0  0.0   0.0       1.0  0.0   1.0      0.0          0.0"
      ]
     },
     "execution_count": 15,
     "metadata": {},
     "output_type": "execute_result"
    }
   ],
   "source": [
    "data_one = pd.DataFrame(encoder.fit_transform(data_one).toarray(),\n",
    "                       columns=np.concatenate(encoder.categories_))\n",
    "data_one"
   ]
  },
  {
   "cell_type": "markdown",
   "id": "10b8439a",
   "metadata": {},
   "source": [
    "### What method is better, OneHotEncoder or OrdinalEncoder?\n",
    "We need to try "
   ]
  },
  {
   "cell_type": "markdown",
   "id": "d60c8090",
   "metadata": {},
   "source": [
    "### Comparative between both encoders\n",
    "#### We will use LogisticRegression"
   ]
  },
  {
   "cell_type": "code",
   "execution_count": 17,
   "id": "6df11acc",
   "metadata": {},
   "outputs": [
    {
     "name": "stdout",
     "output_type": "stream",
     "text": [
      "\n",
      "*** Scaling data for OrdinalEncoder model\n",
      "[[0.         0.        ]\n",
      " [0.25       0.33333333]\n",
      " [0.5        0.66666667]\n",
      " [0.75       1.        ]\n",
      " [1.         0.        ]\n",
      " [0.         0.33333333]]\n",
      "[[0.         0.        ]\n",
      " [0.25       0.33333333]\n",
      " [0.5        0.66666667]\n",
      " [0.75       1.        ]\n",
      " [1.         0.        ]\n",
      " [0.         0.33333333]]\n",
      "\n",
      "*** Clasification with encoded data with OrdinalEncoder\n",
      "Predicions:  [0 0 1 1 0 0]\n",
      "Correct_classes:  [0, 0, 1, 1, 0, 1]\n",
      "[[0.56489598 0.43510402]\n",
      " [0.50845928 0.49154072]\n",
      " [0.45180614 0.54819386]\n",
      " [0.39637512 0.60362488]\n",
      " [0.57175647 0.42824353]\n",
      " [0.50671189 0.49328811]]\n",
      "\n",
      "*** Clasification with encoded data with OneHotEncoder\n",
      "Predicions:  [0 0 1 1 0 1]\n",
      "Correct_classes:  [0, 0, 1, 1, 0, 1]\n",
      "[[0.62301432 0.37698568]\n",
      " [0.57519021 0.42480979]\n",
      " [0.32279763 0.67720237]\n",
      " [0.32279763 0.67720237]\n",
      " [0.70505958 0.29494042]\n",
      " [0.45116842 0.54883158]]\n"
     ]
    }
   ],
   "source": [
    "from sklearn.linear_model import LogisticRegression\n",
    "from sklearn.preprocessing import MinMaxScaler\n",
    "\n",
    "print(\"\\n*** Scaling data for OrdinalEncoder model\") \n",
    "# The OneHotEncoder doesn't need to be scale, because the values are between 0..1\n",
    "scaler = MinMaxScaler()\n",
    "print(data_ord)\n",
    "data_ord = scaler.fit_transform(data_ord)\n",
    "print(data_ord)\n",
    "\n",
    "print(\"\\n*** Clasification with encoded data with OrdinalEncoder\")\n",
    "model = LogisticRegression().fit(data_ord, kind_customer)\n",
    "print(\"Predicions: \", model.predict(data_ord))\n",
    "print(\"Correct_classes: \", kind_customer)\n",
    "print(model.predict_proba(data_ord))\n",
    "\n",
    "print(\"\\n*** Clasification with encoded data with OneHotEncoder\")\n",
    "model = LogisticRegression().fit(data_one, kind_customer)\n",
    "print(\"Predicions: \", model.predict(data_one))\n",
    "print(\"Correct_classes: \", kind_customer)\n",
    "print(model.predict_proba(data_one))\n",
    "\n"
   ]
  },
  {
   "cell_type": "markdown",
   "id": "2237a880",
   "metadata": {},
   "source": [
    "#### Conclusion: In this case, the OneHotEncoder did not have error of prediction, otherwise the OrdinalEncoder did."
   ]
  },
  {
   "cell_type": "code",
   "execution_count": null,
   "id": "fa73da25",
   "metadata": {},
   "outputs": [],
   "source": []
  }
 ],
 "metadata": {
  "kernelspec": {
   "display_name": "Python 3 (ipykernel)",
   "language": "python",
   "name": "python3"
  },
  "language_info": {
   "codemirror_mode": {
    "name": "ipython",
    "version": 3
   },
   "file_extension": ".py",
   "mimetype": "text/x-python",
   "name": "python",
   "nbconvert_exporter": "python",
   "pygments_lexer": "ipython3",
   "version": "3.9.12"
  }
 },
 "nbformat": 4,
 "nbformat_minor": 5
}
