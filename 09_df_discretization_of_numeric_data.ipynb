{
 "cells": [
  {
   "cell_type": "markdown",
   "id": "8e7da3be",
   "metadata": {},
   "source": [
    "# Discretization of numeric data\n",
    "### Containers of the same size\n",
    "#### Objective: To transform from numeric to categorical data."
   ]
  },
  {
   "cell_type": "code",
   "execution_count": 13,
   "id": "7f5ed930",
   "metadata": {},
   "outputs": [
    {
     "name": "stdout",
     "output_type": "stream",
     "text": [
      "(['low', 'low', 'low', 'low', 'low', ..., 'medium', 'medium', 'high', 'high', 'high']\n",
      "Length: 12\n",
      "Categories (3, object): ['low' < 'medium' < 'high'], array([  0.901,  34.   ,  67.   , 100.   ])) \n",
      "\n",
      "<class 'tuple'> \n",
      "\n",
      "result:  \n",
      "\n",
      "[  0.901  34.     67.    100.   ] \n",
      "\n",
      "[0 0 0 0 0 0 1 1 1 2 2 2] \n",
      "\n",
      "Index(['low', 'medium', 'high'], dtype='object') \n",
      "\n",
      "[  0.901  34.     67.    100.   ] \n",
      "\n",
      "['low' 'low' 'low' 'low' 'low' 'low' 'medium' 'medium' 'medium' 'high'\n",
      " 'high' 'high'] \n",
      "\n"
     ]
    }
   ],
   "source": [
    "import pandas as pd\n",
    "import numpy as np\n",
    "\n",
    "ages = np.array([1,7,8,15,16,28,35,50,55,70,75,100])\n",
    "\n",
    "result = pd.cut(ages,\n",
    "               bins=3,\n",
    "               labels=['low', 'medium','high'],\n",
    "               include_lowest=True,    # to include the lowest value.\n",
    "                retbins = True)        # to return the size of containers. \n",
    "               \n",
    "# cut return a tupple\n",
    "print(result, '\\n')\n",
    "print(type(result), '\\n')\n",
    "\n",
    "print(\"result: \", '\\n')\n",
    "print(result[1], '\\n')\n",
    "print(result[0].codes, '\\n')\n",
    "print(result[0].categories, '\\n')\n",
    "print(result[1], '\\n')\n",
    "print(np.array(result[0]), '\\n')\n",
    "\n"
   ]
  },
  {
   "cell_type": "markdown",
   "id": "ff1b142d",
   "metadata": {},
   "source": [
    "### Containers of the different size"
   ]
  },
  {
   "cell_type": "code",
   "execution_count": 14,
   "id": "cef574a4",
   "metadata": {},
   "outputs": [
    {
     "name": "stdout",
     "output_type": "stream",
     "text": [
      "(['child', 'child', 'child', 'teen', 'teen', ..., 'adult', 'adult', 'senior', 'senior', 'senior']\n",
      "Length: 12\n",
      "Categories (4, object): ['child' < 'teen' < 'adult' < 'senior'], array([ 0., 11., 17., 59., inf])) \n",
      "\n",
      "<class 'tuple'> \n",
      "\n",
      "result:  \n",
      "\n",
      "[ 0. 11. 17. 59. inf] \n",
      "\n",
      "[0 0 0 1 1 2 2 2 2 3 3 3] \n",
      "\n",
      "Index(['child', 'teen', 'adult', 'senior'], dtype='object') \n",
      "\n",
      "[ 0. 11. 17. 59. inf] \n",
      "\n",
      "['child' 'child' 'child' 'teen' 'teen' 'adult' 'adult' 'adult' 'adult'\n",
      " 'senior' 'senior' 'senior'] \n",
      "\n"
     ]
    }
   ],
   "source": [
    "ages = np.array([1,7,8,15,16,28,35,50,55,70,75,100])\n",
    "\n",
    "result = pd.cut(ages,\n",
    "               bins=[0,11,17,59,np.inf],   # np.inf = infinite\n",
    "               labels=['child', 'teen','adult','senior'],\n",
    "               include_lowest=True,       # to include the lowest value.\n",
    "                retbins = True)           # to return the size of containers. \n",
    "               \n",
    "# cut return a tupple\n",
    "print(result, '\\n')\n",
    "print(type(result), '\\n')\n",
    "\n",
    "print(\"result: \", '\\n')\n",
    "print(result[1], '\\n')\n",
    "print(result[0].codes, '\\n')\n",
    "print(result[0].categories, '\\n')\n",
    "print(result[1], '\\n')\n",
    "print(np.array(result[0]), '\\n')\n"
   ]
  },
  {
   "cell_type": "code",
   "execution_count": null,
   "id": "0f5177f2",
   "metadata": {},
   "outputs": [],
   "source": []
  }
 ],
 "metadata": {
  "kernelspec": {
   "display_name": "Python 3 (ipykernel)",
   "language": "python",
   "name": "python3"
  },
  "language_info": {
   "codemirror_mode": {
    "name": "ipython",
    "version": 3
   },
   "file_extension": ".py",
   "mimetype": "text/x-python",
   "name": "python",
   "nbconvert_exporter": "python",
   "pygments_lexer": "ipython3",
   "version": "3.9.12"
  }
 },
 "nbformat": 4,
 "nbformat_minor": 5
}
